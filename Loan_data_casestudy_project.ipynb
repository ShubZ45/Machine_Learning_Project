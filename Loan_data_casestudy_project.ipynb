{
 "cells": [
  {
   "cell_type": "markdown",
   "id": "c078af2c-f2dc-4b08-b346-720d9525f825",
   "metadata": {},
   "source": [
    "# Introduction & Problem Statement"
   ]
  },
  {
   "cell_type": "markdown",
   "id": "2727c304-a03e-4140-9ca5-301dcc972f36",
   "metadata": {},
   "source": [
    "Problem Statement:\n",
    "Dream Housing Finance company deals in all home loans. \n",
    "They have a presence across all urban, semi-urban, and rural areas. \n",
    "Customer-first applies for a home loan after that company validates the customer eligibility for a loan.\n",
    "\n",
    "The company wants to automate the loan eligibility process (real-time) based on customer detail provided while filling the online application form. \n",
    "These details are Gender, Marital Status, Education, Number of Dependents, Income, Loan Amount, Credit History, and others. \n",
    "To automate this process, they have given a problem to identify the customer's segments, \n",
    "those are eligible for loan amount so that they can specifically target these customers."
   ]
  },
  {
   "cell_type": "markdown",
   "id": "4d2b702a-f10d-4dda-9b5d-f34650dce072",
   "metadata": {},
   "source": [
    "# Importing Libraries"
   ]
  },
  {
   "cell_type": "code",
   "execution_count": 1,
   "id": "543fef23",
   "metadata": {
    "id": "543fef23"
   },
   "outputs": [],
   "source": [
    "import pandas as pd\n",
    "import numpy as np\n",
    "import seaborn as sns\n",
    "import matplotlib.pyplot as plt\n",
    "%matplotlib inline\n",
    "import warnings\n",
    "warnings.filterwarnings('ignore')"
   ]
  },
  {
   "cell_type": "code",
   "execution_count": 2,
   "id": "b3648683",
   "metadata": {
    "id": "b3648683"
   },
   "outputs": [],
   "source": [
    "df1=pd.read_csv('test.csv')\n",
    "df2=pd.read_csv('train.csv')"
   ]
  },
  {
   "cell_type": "code",
   "execution_count": 3,
   "id": "fa06c403",
   "metadata": {
    "id": "fa06c403"
   },
   "outputs": [],
   "source": [
    "df=df1._append(df2)"
   ]
  },
  {
   "cell_type": "code",
   "execution_count": 4,
   "id": "683faea1",
   "metadata": {
    "id": "683faea1",
    "outputId": "86e345e2-bb10-4e62-b122-6196e58ad2c3",
    "scrolled": true
   },
   "outputs": [
    {
     "data": {
      "text/html": [
       "<div>\n",
       "<style scoped>\n",
       "    .dataframe tbody tr th:only-of-type {\n",
       "        vertical-align: middle;\n",
       "    }\n",
       "\n",
       "    .dataframe tbody tr th {\n",
       "        vertical-align: top;\n",
       "    }\n",
       "\n",
       "    .dataframe thead th {\n",
       "        text-align: right;\n",
       "    }\n",
       "</style>\n",
       "<table border=\"1\" class=\"dataframe\">\n",
       "  <thead>\n",
       "    <tr style=\"text-align: right;\">\n",
       "      <th></th>\n",
       "      <th>Loan_ID</th>\n",
       "      <th>Gender</th>\n",
       "      <th>Married</th>\n",
       "      <th>Dependents</th>\n",
       "      <th>Education</th>\n",
       "      <th>Self_Employed</th>\n",
       "      <th>ApplicantIncome</th>\n",
       "      <th>CoapplicantIncome</th>\n",
       "      <th>LoanAmount</th>\n",
       "      <th>Loan_Amount_Term</th>\n",
       "      <th>Credit_History</th>\n",
       "      <th>Property_Area</th>\n",
       "      <th>Loan_Status</th>\n",
       "    </tr>\n",
       "  </thead>\n",
       "  <tbody>\n",
       "    <tr>\n",
       "      <th>0</th>\n",
       "      <td>LP001015</td>\n",
       "      <td>Male</td>\n",
       "      <td>Yes</td>\n",
       "      <td>0</td>\n",
       "      <td>Graduate</td>\n",
       "      <td>No</td>\n",
       "      <td>5720</td>\n",
       "      <td>0.0</td>\n",
       "      <td>110.0</td>\n",
       "      <td>360.0</td>\n",
       "      <td>1.0</td>\n",
       "      <td>Urban</td>\n",
       "      <td>NaN</td>\n",
       "    </tr>\n",
       "    <tr>\n",
       "      <th>1</th>\n",
       "      <td>LP001022</td>\n",
       "      <td>Male</td>\n",
       "      <td>Yes</td>\n",
       "      <td>1</td>\n",
       "      <td>Graduate</td>\n",
       "      <td>No</td>\n",
       "      <td>3076</td>\n",
       "      <td>1500.0</td>\n",
       "      <td>126.0</td>\n",
       "      <td>360.0</td>\n",
       "      <td>1.0</td>\n",
       "      <td>Urban</td>\n",
       "      <td>NaN</td>\n",
       "    </tr>\n",
       "    <tr>\n",
       "      <th>2</th>\n",
       "      <td>LP001031</td>\n",
       "      <td>Male</td>\n",
       "      <td>Yes</td>\n",
       "      <td>2</td>\n",
       "      <td>Graduate</td>\n",
       "      <td>No</td>\n",
       "      <td>5000</td>\n",
       "      <td>1800.0</td>\n",
       "      <td>208.0</td>\n",
       "      <td>360.0</td>\n",
       "      <td>1.0</td>\n",
       "      <td>Urban</td>\n",
       "      <td>NaN</td>\n",
       "    </tr>\n",
       "    <tr>\n",
       "      <th>3</th>\n",
       "      <td>LP001035</td>\n",
       "      <td>Male</td>\n",
       "      <td>Yes</td>\n",
       "      <td>2</td>\n",
       "      <td>Graduate</td>\n",
       "      <td>No</td>\n",
       "      <td>2340</td>\n",
       "      <td>2546.0</td>\n",
       "      <td>100.0</td>\n",
       "      <td>360.0</td>\n",
       "      <td>NaN</td>\n",
       "      <td>Urban</td>\n",
       "      <td>NaN</td>\n",
       "    </tr>\n",
       "    <tr>\n",
       "      <th>4</th>\n",
       "      <td>LP001051</td>\n",
       "      <td>Male</td>\n",
       "      <td>No</td>\n",
       "      <td>0</td>\n",
       "      <td>Not Graduate</td>\n",
       "      <td>No</td>\n",
       "      <td>3276</td>\n",
       "      <td>0.0</td>\n",
       "      <td>78.0</td>\n",
       "      <td>360.0</td>\n",
       "      <td>1.0</td>\n",
       "      <td>Urban</td>\n",
       "      <td>NaN</td>\n",
       "    </tr>\n",
       "  </tbody>\n",
       "</table>\n",
       "</div>"
      ],
      "text/plain": [
       "    Loan_ID Gender Married Dependents     Education Self_Employed  \\\n",
       "0  LP001015   Male     Yes          0      Graduate            No   \n",
       "1  LP001022   Male     Yes          1      Graduate            No   \n",
       "2  LP001031   Male     Yes          2      Graduate            No   \n",
       "3  LP001035   Male     Yes          2      Graduate            No   \n",
       "4  LP001051   Male      No          0  Not Graduate            No   \n",
       "\n",
       "   ApplicantIncome  CoapplicantIncome  LoanAmount  Loan_Amount_Term  \\\n",
       "0             5720                0.0       110.0             360.0   \n",
       "1             3076             1500.0       126.0             360.0   \n",
       "2             5000             1800.0       208.0             360.0   \n",
       "3             2340             2546.0       100.0             360.0   \n",
       "4             3276                0.0        78.0             360.0   \n",
       "\n",
       "   Credit_History Property_Area Loan_Status  \n",
       "0             1.0         Urban         NaN  \n",
       "1             1.0         Urban         NaN  \n",
       "2             1.0         Urban         NaN  \n",
       "3             NaN         Urban         NaN  \n",
       "4             1.0         Urban         NaN  "
      ]
     },
     "execution_count": 4,
     "metadata": {},
     "output_type": "execute_result"
    }
   ],
   "source": [
    "df.head()"
   ]
  },
  {
   "cell_type": "markdown",
   "id": "14b83123-21d9-4530-9b07-d9e31a097f91",
   "metadata": {},
   "source": [
    "## Dataset Key Description:"
   ]
  },
  {
   "cell_type": "markdown",
   "id": "01522f4d-fc02-4e66-a1af-d22ad2e036d6",
   "metadata": {},
   "source": [
    "- Loan_ID: Unique Loan ID\n",
    "- Gender: Male/ Female\n",
    "- Married: Applicant married (Y/N)\n",
    "- Dependents:\tNumber of dependents\n",
    "- Education: Applicant Education (Graduate/ Under Graduate)\n",
    "- Self_Employed: Self-employed (Y/N)\n",
    "- ApplicantIncome: Applicant income\n",
    "- CoapplicantIncome:\tCoapplicant income\n",
    "- LoanAmount:\tLoan amount in thousands\n",
    "- Loan_Amount_Term: Term of a loan in months\n",
    "- Credit_History:\tcredit history meets guidelines\n",
    "- Property_Area: Urban/ Semi-Urban/ Rural\n",
    "- Loan_Status: Loan approved (Y/N)"
   ]
  },
  {
   "cell_type": "markdown",
   "id": "305c4f92-43d0-4854-839f-467e67f91d9a",
   "metadata": {},
   "source": [
    "# Data cleaning & Preprocessing"
   ]
  },
  {
   "cell_type": "code",
   "execution_count": 5,
   "id": "0d393cb8",
   "metadata": {
    "id": "0d393cb8",
    "outputId": "fb3fb9df-3d14-4961-931c-fb4b0d679403"
   },
   "outputs": [
    {
     "data": {
      "text/html": [
       "<div>\n",
       "<style scoped>\n",
       "    .dataframe tbody tr th:only-of-type {\n",
       "        vertical-align: middle;\n",
       "    }\n",
       "\n",
       "    .dataframe tbody tr th {\n",
       "        vertical-align: top;\n",
       "    }\n",
       "\n",
       "    .dataframe thead th {\n",
       "        text-align: right;\n",
       "    }\n",
       "</style>\n",
       "<table border=\"1\" class=\"dataframe\">\n",
       "  <thead>\n",
       "    <tr style=\"text-align: right;\">\n",
       "      <th></th>\n",
       "      <th>ApplicantIncome</th>\n",
       "      <th>CoapplicantIncome</th>\n",
       "      <th>LoanAmount</th>\n",
       "      <th>Loan_Amount_Term</th>\n",
       "      <th>Credit_History</th>\n",
       "    </tr>\n",
       "  </thead>\n",
       "  <tbody>\n",
       "    <tr>\n",
       "      <th>count</th>\n",
       "      <td>981.000000</td>\n",
       "      <td>981.000000</td>\n",
       "      <td>954.000000</td>\n",
       "      <td>961.000000</td>\n",
       "      <td>902.000000</td>\n",
       "    </tr>\n",
       "    <tr>\n",
       "      <th>mean</th>\n",
       "      <td>5179.795107</td>\n",
       "      <td>1601.916330</td>\n",
       "      <td>142.511530</td>\n",
       "      <td>342.201873</td>\n",
       "      <td>0.835920</td>\n",
       "    </tr>\n",
       "    <tr>\n",
       "      <th>std</th>\n",
       "      <td>5695.104533</td>\n",
       "      <td>2718.772806</td>\n",
       "      <td>77.421743</td>\n",
       "      <td>65.100602</td>\n",
       "      <td>0.370553</td>\n",
       "    </tr>\n",
       "    <tr>\n",
       "      <th>min</th>\n",
       "      <td>0.000000</td>\n",
       "      <td>0.000000</td>\n",
       "      <td>9.000000</td>\n",
       "      <td>6.000000</td>\n",
       "      <td>0.000000</td>\n",
       "    </tr>\n",
       "    <tr>\n",
       "      <th>25%</th>\n",
       "      <td>2875.000000</td>\n",
       "      <td>0.000000</td>\n",
       "      <td>100.000000</td>\n",
       "      <td>360.000000</td>\n",
       "      <td>1.000000</td>\n",
       "    </tr>\n",
       "    <tr>\n",
       "      <th>50%</th>\n",
       "      <td>3800.000000</td>\n",
       "      <td>1110.000000</td>\n",
       "      <td>126.000000</td>\n",
       "      <td>360.000000</td>\n",
       "      <td>1.000000</td>\n",
       "    </tr>\n",
       "    <tr>\n",
       "      <th>75%</th>\n",
       "      <td>5516.000000</td>\n",
       "      <td>2365.000000</td>\n",
       "      <td>162.000000</td>\n",
       "      <td>360.000000</td>\n",
       "      <td>1.000000</td>\n",
       "    </tr>\n",
       "    <tr>\n",
       "      <th>max</th>\n",
       "      <td>81000.000000</td>\n",
       "      <td>41667.000000</td>\n",
       "      <td>700.000000</td>\n",
       "      <td>480.000000</td>\n",
       "      <td>1.000000</td>\n",
       "    </tr>\n",
       "  </tbody>\n",
       "</table>\n",
       "</div>"
      ],
      "text/plain": [
       "       ApplicantIncome  CoapplicantIncome  LoanAmount  Loan_Amount_Term  \\\n",
       "count       981.000000         981.000000  954.000000        961.000000   \n",
       "mean       5179.795107        1601.916330  142.511530        342.201873   \n",
       "std        5695.104533        2718.772806   77.421743         65.100602   \n",
       "min           0.000000           0.000000    9.000000          6.000000   \n",
       "25%        2875.000000           0.000000  100.000000        360.000000   \n",
       "50%        3800.000000        1110.000000  126.000000        360.000000   \n",
       "75%        5516.000000        2365.000000  162.000000        360.000000   \n",
       "max       81000.000000       41667.000000  700.000000        480.000000   \n",
       "\n",
       "       Credit_History  \n",
       "count      902.000000  \n",
       "mean         0.835920  \n",
       "std          0.370553  \n",
       "min          0.000000  \n",
       "25%          1.000000  \n",
       "50%          1.000000  \n",
       "75%          1.000000  \n",
       "max          1.000000  "
      ]
     },
     "execution_count": 5,
     "metadata": {},
     "output_type": "execute_result"
    }
   ],
   "source": [
    "df.describe()"
   ]
  },
  {
   "cell_type": "code",
   "execution_count": 6,
   "id": "76a2deb1",
   "metadata": {
    "id": "76a2deb1",
    "outputId": "66e3d9d5-3a93-4ed3-d701-70a700d94c25"
   },
   "outputs": [
    {
     "name": "stdout",
     "output_type": "stream",
     "text": [
      "<class 'pandas.core.frame.DataFrame'>\n",
      "Index: 981 entries, 0 to 613\n",
      "Data columns (total 13 columns):\n",
      " #   Column             Non-Null Count  Dtype  \n",
      "---  ------             --------------  -----  \n",
      " 0   Loan_ID            981 non-null    object \n",
      " 1   Gender             957 non-null    object \n",
      " 2   Married            978 non-null    object \n",
      " 3   Dependents         956 non-null    object \n",
      " 4   Education          981 non-null    object \n",
      " 5   Self_Employed      926 non-null    object \n",
      " 6   ApplicantIncome    981 non-null    int64  \n",
      " 7   CoapplicantIncome  981 non-null    float64\n",
      " 8   LoanAmount         954 non-null    float64\n",
      " 9   Loan_Amount_Term   961 non-null    float64\n",
      " 10  Credit_History     902 non-null    float64\n",
      " 11  Property_Area      981 non-null    object \n",
      " 12  Loan_Status        614 non-null    object \n",
      "dtypes: float64(4), int64(1), object(8)\n",
      "memory usage: 107.3+ KB\n"
     ]
    }
   ],
   "source": [
    "df.info()"
   ]
  },
  {
   "cell_type": "code",
   "execution_count": 7,
   "id": "ca671803-d463-4495-a231-70760022a270",
   "metadata": {},
   "outputs": [],
   "source": [
    "#Finding Null values in the dataset"
   ]
  },
  {
   "cell_type": "code",
   "execution_count": 8,
   "id": "9f239297",
   "metadata": {
    "id": "9f239297",
    "outputId": "8019edb5-d0db-42bc-c66b-bc9d378ab000"
   },
   "outputs": [
    {
     "data": {
      "text/plain": [
       "Loan_ID                0\n",
       "Gender                24\n",
       "Married                3\n",
       "Dependents            25\n",
       "Education              0\n",
       "Self_Employed         55\n",
       "ApplicantIncome        0\n",
       "CoapplicantIncome      0\n",
       "LoanAmount            27\n",
       "Loan_Amount_Term      20\n",
       "Credit_History        79\n",
       "Property_Area          0\n",
       "Loan_Status          367\n",
       "dtype: int64"
      ]
     },
     "execution_count": 8,
     "metadata": {},
     "output_type": "execute_result"
    }
   ],
   "source": [
    "df.isnull().sum()"
   ]
  },
  {
   "cell_type": "code",
   "execution_count": 9,
   "id": "ba8fb2fe",
   "metadata": {
    "id": "ba8fb2fe",
    "outputId": "d7049204-1e27-4160-ddc4-d2e521b28719",
    "scrolled": true
   },
   "outputs": [
    {
     "data": {
      "text/plain": [
       "Loan_ID               0.000000\n",
       "Gender                2.446483\n",
       "Married               0.305810\n",
       "Dependents            2.548420\n",
       "Education             0.000000\n",
       "Self_Employed         5.606524\n",
       "ApplicantIncome       0.000000\n",
       "CoapplicantIncome     0.000000\n",
       "LoanAmount            2.752294\n",
       "Loan_Amount_Term      2.038736\n",
       "Credit_History        8.053007\n",
       "Property_Area         0.000000\n",
       "Loan_Status          37.410805\n",
       "dtype: float64"
      ]
     },
     "execution_count": 9,
     "metadata": {},
     "output_type": "execute_result"
    }
   ],
   "source": [
    "df.isnull().sum()/len(df)*100"
   ]
  },
  {
   "cell_type": "code",
   "execution_count": 10,
   "id": "68ca2b48-8247-4b03-9ad3-0f3237220edc",
   "metadata": {},
   "outputs": [],
   "source": [
    "#Filling Null values with mode of self_employed column."
   ]
  },
  {
   "cell_type": "code",
   "execution_count": 11,
   "id": "acc08adf",
   "metadata": {
    "id": "acc08adf"
   },
   "outputs": [],
   "source": [
    "mode_sf_emp=df['Self_Employed'].mode()"
   ]
  },
  {
   "cell_type": "code",
   "execution_count": 12,
   "id": "3e9354d3",
   "metadata": {
    "id": "3e9354d3",
    "outputId": "b6c12eb6-e929-4812-8cbc-3f878575670e"
   },
   "outputs": [
    {
     "data": {
      "text/plain": [
       "0    No\n",
       "Name: Self_Employed, dtype: object"
      ]
     },
     "execution_count": 12,
     "metadata": {},
     "output_type": "execute_result"
    }
   ],
   "source": [
    "mode_sf_emp"
   ]
  },
  {
   "cell_type": "code",
   "execution_count": 13,
   "id": "cdc68460",
   "metadata": {
    "id": "cdc68460"
   },
   "outputs": [],
   "source": [
    "df['Self_Employed']=df['Self_Employed'].fillna(method='ffill')"
   ]
  },
  {
   "cell_type": "code",
   "execution_count": 14,
   "id": "d1755dd2-5fb2-42cd-98ed-bc21030344da",
   "metadata": {},
   "outputs": [],
   "source": [
    "#Filling Null values with mode of Loan_status column."
   ]
  },
  {
   "cell_type": "code",
   "execution_count": 15,
   "id": "7715d2ec",
   "metadata": {
    "id": "7715d2ec",
    "outputId": "599260f5-4b48-4b88-fc5e-fe65e2a227be"
   },
   "outputs": [
    {
     "data": {
      "text/plain": [
       "0    Y\n",
       "Name: Loan_Status, dtype: object"
      ]
     },
     "execution_count": 15,
     "metadata": {},
     "output_type": "execute_result"
    }
   ],
   "source": [
    "mode_ln_st=df['Loan_Status'].mode()\n",
    "mode_ln_st"
   ]
  },
  {
   "cell_type": "code",
   "execution_count": 16,
   "id": "fe9e4da5",
   "metadata": {
    "id": "fe9e4da5"
   },
   "outputs": [],
   "source": [
    "df['Loan_Status']=df['Loan_Status'].fillna(method='ffill')"
   ]
  },
  {
   "cell_type": "code",
   "execution_count": 17,
   "id": "093650e6-3b31-4713-b643-433cf9b3c8fe",
   "metadata": {},
   "outputs": [],
   "source": [
    "#Filling Null values with median of credit_History column."
   ]
  },
  {
   "cell_type": "code",
   "execution_count": 18,
   "id": "8c2ee7cb",
   "metadata": {
    "id": "8c2ee7cb",
    "outputId": "e335f14f-6c15-4beb-fa10-ecfe4da6127d"
   },
   "outputs": [
    {
     "data": {
      "text/plain": [
       "1.0"
      ]
     },
     "execution_count": 18,
     "metadata": {},
     "output_type": "execute_result"
    }
   ],
   "source": [
    "median_cr=df['Credit_History'].median()\n",
    "median_cr"
   ]
  },
  {
   "cell_type": "code",
   "execution_count": 19,
   "id": "d9a343dd",
   "metadata": {
    "id": "d9a343dd"
   },
   "outputs": [],
   "source": [
    "df['Credit_History']=df['Credit_History'].fillna(median_cr)"
   ]
  },
  {
   "cell_type": "code",
   "execution_count": 20,
   "id": "82064c5c",
   "metadata": {
    "id": "82064c5c",
    "outputId": "6cc9da04-4edf-4abe-de61-6cf6bb8d55f1"
   },
   "outputs": [
    {
     "data": {
      "text/plain": [
       "Loan_ID               0.000000\n",
       "Gender                2.446483\n",
       "Married               0.305810\n",
       "Dependents            2.548420\n",
       "Education             0.000000\n",
       "Self_Employed         0.000000\n",
       "ApplicantIncome       0.000000\n",
       "CoapplicantIncome     0.000000\n",
       "LoanAmount            2.752294\n",
       "Loan_Amount_Term      2.038736\n",
       "Credit_History        0.000000\n",
       "Property_Area         0.000000\n",
       "Loan_Status          37.410805\n",
       "dtype: float64"
      ]
     },
     "execution_count": 20,
     "metadata": {},
     "output_type": "execute_result"
    }
   ],
   "source": [
    "#Re-checking for the Null values percentages.\n",
    "df.isnull().sum()/len(df)*100"
   ]
  },
  {
   "cell_type": "code",
   "execution_count": 21,
   "id": "868fe3cb",
   "metadata": {
    "id": "868fe3cb"
   },
   "outputs": [],
   "source": [
    "#Dropping the remaining null values from the dataset since their % is low.\n",
    "df.dropna(inplace=True)"
   ]
  },
  {
   "cell_type": "code",
   "execution_count": 22,
   "id": "5f9e30dc",
   "metadata": {
    "id": "5f9e30dc",
    "outputId": "9bbd371b-4d21-4b5c-82cf-0f41f166c9fe"
   },
   "outputs": [
    {
     "data": {
      "text/plain": [
       "Loan_ID              0\n",
       "Gender               0\n",
       "Married              0\n",
       "Dependents           0\n",
       "Education            0\n",
       "Self_Employed        0\n",
       "ApplicantIncome      0\n",
       "CoapplicantIncome    0\n",
       "LoanAmount           0\n",
       "Loan_Amount_Term     0\n",
       "Credit_History       0\n",
       "Property_Area        0\n",
       "Loan_Status          0\n",
       "dtype: int64"
      ]
     },
     "execution_count": 22,
     "metadata": {},
     "output_type": "execute_result"
    }
   ],
   "source": [
    "#Final checking for the Null values.\n",
    "df.isnull().sum()"
   ]
  },
  {
   "cell_type": "code",
   "execution_count": 23,
   "id": "fe06b7dd",
   "metadata": {
    "id": "fe06b7dd",
    "outputId": "dea852a8-5c74-4051-f7b9-08f547950ba7"
   },
   "outputs": [
    {
     "data": {
      "text/plain": [
       "Index(['ApplicantIncome', 'CoapplicantIncome', 'LoanAmount',\n",
       "       'Loan_Amount_Term', 'Credit_History'],\n",
       "      dtype='object')"
      ]
     },
     "execution_count": 23,
     "metadata": {},
     "output_type": "execute_result"
    }
   ],
   "source": [
    "#Numerical_col\n",
    "num_col=df.select_dtypes(include=['int64','float64']).columns\n",
    "num_col"
   ]
  },
  {
   "cell_type": "code",
   "execution_count": 24,
   "id": "32a13eab",
   "metadata": {
    "id": "32a13eab",
    "outputId": "a74f1659-ffa5-422c-9dd3-da4193d981cb"
   },
   "outputs": [
    {
     "data": {
      "text/plain": [
       "Index(['Loan_ID', 'Gender', 'Married', 'Dependents', 'Education',\n",
       "       'Self_Employed', 'Property_Area', 'Loan_Status'],\n",
       "      dtype='object')"
      ]
     },
     "execution_count": 24,
     "metadata": {},
     "output_type": "execute_result"
    }
   ],
   "source": [
    "#Categorical_col\n",
    "cat_col=df.select_dtypes(include=['O']).columns\n",
    "cat_col"
   ]
  },
  {
   "cell_type": "code",
   "execution_count": 25,
   "id": "18ac5dc0",
   "metadata": {
    "id": "18ac5dc0"
   },
   "outputs": [],
   "source": [
    "#Dropping the dependent column since it is of no use in my prediction.\n",
    "df.drop('Dependents',axis=1,inplace=True)"
   ]
  },
  {
   "cell_type": "markdown",
   "id": "b6c26d95-b141-4899-97d2-9b509ff6a6b7",
   "metadata": {},
   "source": [
    "# Exploratory Data Analysis"
   ]
  },
  {
   "cell_type": "code",
   "execution_count": 26,
   "id": "a85619c7",
   "metadata": {
    "id": "a85619c7",
    "outputId": "75901e14-340a-416c-e03d-d649c503288a",
    "scrolled": true
   },
   "outputs": [
    {
     "data": {
      "text/html": [
       "<div>\n",
       "<style scoped>\n",
       "    .dataframe tbody tr th:only-of-type {\n",
       "        vertical-align: middle;\n",
       "    }\n",
       "\n",
       "    .dataframe tbody tr th {\n",
       "        vertical-align: top;\n",
       "    }\n",
       "\n",
       "    .dataframe thead th {\n",
       "        text-align: right;\n",
       "    }\n",
       "</style>\n",
       "<table border=\"1\" class=\"dataframe\">\n",
       "  <thead>\n",
       "    <tr style=\"text-align: right;\">\n",
       "      <th></th>\n",
       "      <th>Loan_ID</th>\n",
       "      <th>Gender</th>\n",
       "      <th>Married</th>\n",
       "      <th>Education</th>\n",
       "      <th>Self_Employed</th>\n",
       "      <th>ApplicantIncome</th>\n",
       "      <th>CoapplicantIncome</th>\n",
       "      <th>LoanAmount</th>\n",
       "      <th>Loan_Amount_Term</th>\n",
       "      <th>Credit_History</th>\n",
       "      <th>Property_Area</th>\n",
       "      <th>Loan_Status</th>\n",
       "    </tr>\n",
       "  </thead>\n",
       "  <tbody>\n",
       "    <tr>\n",
       "      <th>1</th>\n",
       "      <td>LP001003</td>\n",
       "      <td>Male</td>\n",
       "      <td>Yes</td>\n",
       "      <td>Graduate</td>\n",
       "      <td>No</td>\n",
       "      <td>4583</td>\n",
       "      <td>1508.0</td>\n",
       "      <td>128.0</td>\n",
       "      <td>360.0</td>\n",
       "      <td>1.0</td>\n",
       "      <td>Rural</td>\n",
       "      <td>N</td>\n",
       "    </tr>\n",
       "    <tr>\n",
       "      <th>2</th>\n",
       "      <td>LP001005</td>\n",
       "      <td>Male</td>\n",
       "      <td>Yes</td>\n",
       "      <td>Graduate</td>\n",
       "      <td>Yes</td>\n",
       "      <td>3000</td>\n",
       "      <td>0.0</td>\n",
       "      <td>66.0</td>\n",
       "      <td>360.0</td>\n",
       "      <td>1.0</td>\n",
       "      <td>Urban</td>\n",
       "      <td>Y</td>\n",
       "    </tr>\n",
       "    <tr>\n",
       "      <th>3</th>\n",
       "      <td>LP001006</td>\n",
       "      <td>Male</td>\n",
       "      <td>Yes</td>\n",
       "      <td>Not Graduate</td>\n",
       "      <td>No</td>\n",
       "      <td>2583</td>\n",
       "      <td>2358.0</td>\n",
       "      <td>120.0</td>\n",
       "      <td>360.0</td>\n",
       "      <td>1.0</td>\n",
       "      <td>Urban</td>\n",
       "      <td>Y</td>\n",
       "    </tr>\n",
       "    <tr>\n",
       "      <th>4</th>\n",
       "      <td>LP001008</td>\n",
       "      <td>Male</td>\n",
       "      <td>No</td>\n",
       "      <td>Graduate</td>\n",
       "      <td>No</td>\n",
       "      <td>6000</td>\n",
       "      <td>0.0</td>\n",
       "      <td>141.0</td>\n",
       "      <td>360.0</td>\n",
       "      <td>1.0</td>\n",
       "      <td>Urban</td>\n",
       "      <td>Y</td>\n",
       "    </tr>\n",
       "    <tr>\n",
       "      <th>5</th>\n",
       "      <td>LP001011</td>\n",
       "      <td>Male</td>\n",
       "      <td>Yes</td>\n",
       "      <td>Graduate</td>\n",
       "      <td>Yes</td>\n",
       "      <td>5417</td>\n",
       "      <td>4196.0</td>\n",
       "      <td>267.0</td>\n",
       "      <td>360.0</td>\n",
       "      <td>1.0</td>\n",
       "      <td>Urban</td>\n",
       "      <td>Y</td>\n",
       "    </tr>\n",
       "    <tr>\n",
       "      <th>6</th>\n",
       "      <td>LP001013</td>\n",
       "      <td>Male</td>\n",
       "      <td>Yes</td>\n",
       "      <td>Not Graduate</td>\n",
       "      <td>No</td>\n",
       "      <td>2333</td>\n",
       "      <td>1516.0</td>\n",
       "      <td>95.0</td>\n",
       "      <td>360.0</td>\n",
       "      <td>1.0</td>\n",
       "      <td>Urban</td>\n",
       "      <td>Y</td>\n",
       "    </tr>\n",
       "    <tr>\n",
       "      <th>7</th>\n",
       "      <td>LP001014</td>\n",
       "      <td>Male</td>\n",
       "      <td>Yes</td>\n",
       "      <td>Graduate</td>\n",
       "      <td>No</td>\n",
       "      <td>3036</td>\n",
       "      <td>2504.0</td>\n",
       "      <td>158.0</td>\n",
       "      <td>360.0</td>\n",
       "      <td>0.0</td>\n",
       "      <td>Semiurban</td>\n",
       "      <td>N</td>\n",
       "    </tr>\n",
       "    <tr>\n",
       "      <th>8</th>\n",
       "      <td>LP001018</td>\n",
       "      <td>Male</td>\n",
       "      <td>Yes</td>\n",
       "      <td>Graduate</td>\n",
       "      <td>No</td>\n",
       "      <td>4006</td>\n",
       "      <td>1526.0</td>\n",
       "      <td>168.0</td>\n",
       "      <td>360.0</td>\n",
       "      <td>1.0</td>\n",
       "      <td>Urban</td>\n",
       "      <td>Y</td>\n",
       "    </tr>\n",
       "    <tr>\n",
       "      <th>9</th>\n",
       "      <td>LP001020</td>\n",
       "      <td>Male</td>\n",
       "      <td>Yes</td>\n",
       "      <td>Graduate</td>\n",
       "      <td>No</td>\n",
       "      <td>12841</td>\n",
       "      <td>10968.0</td>\n",
       "      <td>349.0</td>\n",
       "      <td>360.0</td>\n",
       "      <td>1.0</td>\n",
       "      <td>Semiurban</td>\n",
       "      <td>N</td>\n",
       "    </tr>\n",
       "    <tr>\n",
       "      <th>10</th>\n",
       "      <td>LP001024</td>\n",
       "      <td>Male</td>\n",
       "      <td>Yes</td>\n",
       "      <td>Graduate</td>\n",
       "      <td>No</td>\n",
       "      <td>3200</td>\n",
       "      <td>700.0</td>\n",
       "      <td>70.0</td>\n",
       "      <td>360.0</td>\n",
       "      <td>1.0</td>\n",
       "      <td>Urban</td>\n",
       "      <td>Y</td>\n",
       "    </tr>\n",
       "  </tbody>\n",
       "</table>\n",
       "</div>"
      ],
      "text/plain": [
       "     Loan_ID Gender Married     Education Self_Employed  ApplicantIncome  \\\n",
       "1   LP001003   Male     Yes      Graduate            No             4583   \n",
       "2   LP001005   Male     Yes      Graduate           Yes             3000   \n",
       "3   LP001006   Male     Yes  Not Graduate            No             2583   \n",
       "4   LP001008   Male      No      Graduate            No             6000   \n",
       "5   LP001011   Male     Yes      Graduate           Yes             5417   \n",
       "6   LP001013   Male     Yes  Not Graduate            No             2333   \n",
       "7   LP001014   Male     Yes      Graduate            No             3036   \n",
       "8   LP001018   Male     Yes      Graduate            No             4006   \n",
       "9   LP001020   Male     Yes      Graduate            No            12841   \n",
       "10  LP001024   Male     Yes      Graduate            No             3200   \n",
       "\n",
       "    CoapplicantIncome  LoanAmount  Loan_Amount_Term  Credit_History  \\\n",
       "1              1508.0       128.0             360.0             1.0   \n",
       "2                 0.0        66.0             360.0             1.0   \n",
       "3              2358.0       120.0             360.0             1.0   \n",
       "4                 0.0       141.0             360.0             1.0   \n",
       "5              4196.0       267.0             360.0             1.0   \n",
       "6              1516.0        95.0             360.0             1.0   \n",
       "7              2504.0       158.0             360.0             0.0   \n",
       "8              1526.0       168.0             360.0             1.0   \n",
       "9             10968.0       349.0             360.0             1.0   \n",
       "10              700.0        70.0             360.0             1.0   \n",
       "\n",
       "   Property_Area Loan_Status  \n",
       "1          Rural           N  \n",
       "2          Urban           Y  \n",
       "3          Urban           Y  \n",
       "4          Urban           Y  \n",
       "5          Urban           Y  \n",
       "6          Urban           Y  \n",
       "7      Semiurban           N  \n",
       "8          Urban           Y  \n",
       "9      Semiurban           N  \n",
       "10         Urban           Y  "
      ]
     },
     "execution_count": 26,
     "metadata": {},
     "output_type": "execute_result"
    }
   ],
   "source": [
    "df.head(10)"
   ]
  },
  {
   "cell_type": "markdown",
   "id": "3a48d1be-80a0-468a-a4af-636a994690c8",
   "metadata": {},
   "source": [
    "# Finding Maximum Loan Approval Count"
   ]
  },
  {
   "cell_type": "code",
   "execution_count": 27,
   "id": "290cbca9",
   "metadata": {
    "id": "290cbca9",
    "outputId": "c95ce86a-77d5-4219-dbc8-cd7380cbfa43"
   },
   "outputs": [
    {
     "data": {
      "text/plain": [
       "<Axes: xlabel='Loan_Status', ylabel='count'>"
      ]
     },
     "execution_count": 27,
     "metadata": {},
     "output_type": "execute_result"
    },
    {
     "data": {
      "image/png": "[encoded data removed]",
      "text/plain": [
       "<Figure size 640x480 with 1 Axes>"
      ]
     },
     "metadata": {},
     "output_type": "display_data"
    }
   ],
   "source": [
    "sns.countplot(data=df,x=df['Loan_Status'])"
   ]
  },
  {
   "cell_type": "markdown",
   "id": "bbc0adcb-5ac6-4278-9ead-e7b349edb260",
   "metadata": {},
   "source": [
    "# Loan approval status according to Genders"
   ]
  },
  {
   "cell_type": "code",
   "execution_count": 28,
   "id": "a9e1beef",
   "metadata": {
    "id": "a9e1beef",
    "outputId": "ceb8fe16-e484-4f3c-84f9-b7dc6ae8729d"
   },
   "outputs": [
    {
     "data": {
      "text/plain": [
       "<Axes: xlabel='Gender', ylabel='count'>"
      ]
     },
     "execution_count": 28,
     "metadata": {},
     "output_type": "execute_result"
    },
    {
     "data": {
      "image/png": "[encoded data removed]",
      "text/plain": [
       "<Figure size 640x480 with 1 Axes>"
      ]
     },
     "metadata": {},
     "output_type": "display_data"
    }
   ],
   "source": [
    "sns.countplot(data=df,x=df['Gender'],hue=df['Loan_Status'])"
   ]
  },
  {
   "cell_type": "markdown",
   "id": "b7afd1fe-1fc8-4d90-b47c-9278e2c91b50",
   "metadata": {},
   "source": [
    "# Loan Approval count of Self Employed people"
   ]
  },
  {
   "cell_type": "code",
   "execution_count": 29,
   "id": "f1150032",
   "metadata": {
    "id": "f1150032",
    "outputId": "fe19d2b6-dec5-4f6e-965f-23ea257edf2e"
   },
   "outputs": [
    {
     "data": {
      "text/plain": [
       "<Axes: xlabel='Self_Employed', ylabel='count'>"
      ]
     },
     "execution_count": 29,
     "metadata": {},
     "output_type": "execute_result"
    },
    {
     "data": {
      "image/png": "[encoded data removed]",
      "text/plain": [
       "<Figure size 640x480 with 1 Axes>"
      ]
     },
     "metadata": {},
     "output_type": "display_data"
    }
   ],
   "source": [
    "sns.countplot(data=df,x=df['Self_Employed'],hue=df['Loan_Status'])"
   ]
  },
  {
   "cell_type": "markdown",
   "id": "a73731f6-0959-41ef-b792-943ca6bcadf6",
   "metadata": {},
   "source": [
    "# Loan Approval count according to Property Area"
   ]
  },
  {
   "cell_type": "code",
   "execution_count": 30,
   "id": "7d0e6cd9",
   "metadata": {
    "id": "7d0e6cd9",
    "outputId": "c6a2721a-c0d0-4738-dc79-161242c6cef7"
   },
   "outputs": [
    {
     "data": {
      "text/plain": [
       "<Axes: xlabel='Property_Area', ylabel='count'>"
      ]
     },
     "execution_count": 30,
     "metadata": {},
     "output_type": "execute_result"
    },
    {
     "data": {
      "image/png": "[encoded data removed]",
      "text/plain": [
       "<Figure size 640x480 with 1 Axes>"
      ]
     },
     "metadata": {},
     "output_type": "display_data"
    }
   ],
   "source": [
    "sns.countplot(data=df,x=df['Property_Area'],hue=df['Loan_Status'])"
   ]
  },
  {
   "cell_type": "markdown",
   "id": "737c9496-8002-4869-9eca-458d86afe805",
   "metadata": {},
   "source": [
    "# Relation Between Applicant Income & Loan Amount"
   ]
  },
  {
   "cell_type": "code",
   "execution_count": 31,
   "id": "c0c22196",
   "metadata": {
    "id": "c0c22196",
    "outputId": "1f6128a9-431b-4c55-ce3f-3feae68c6fd1"
   },
   "outputs": [
    {
     "data": {
      "text/plain": [
       "<Axes: xlabel='ApplicantIncome', ylabel='LoanAmount'>"
      ]
     },
     "execution_count": 31,
     "metadata": {},
     "output_type": "execute_result"
    },
    {
     "data": {
      "image/png": "[encoded data removed]",
      "text/plain": [
       "<Figure size 640x480 with 1 Axes>"
      ]
     },
     "metadata": {},
     "output_type": "display_data"
    }
   ],
   "source": [
    "sns.scatterplot(data=df,x=df['ApplicantIncome'],y=df['LoanAmount'])"
   ]
  },
  {
   "cell_type": "code",
   "execution_count": 32,
   "id": "e2f73913",
   "metadata": {
    "id": "e2f73913",
    "outputId": "cfcd34f5-4acb-43f3-a0c9-7c78d3cc93d9",
    "scrolled": true
   },
   "outputs": [
    {
     "data": {
      "text/plain": [
       "<Axes: ylabel='Density'>"
      ]
     },
     "execution_count": 32,
     "metadata": {},
     "output_type": "execute_result"
    },
    {
     "data": {
      "image/png": "[encoded data removed]",
      "text/plain": [
       "<Figure size 640x480 with 1 Axes>"
      ]
     },
     "metadata": {},
     "output_type": "display_data"
    }
   ],
   "source": [
    "sns.distplot(x=df['ApplicantIncome'])"
   ]
  },
  {
   "cell_type": "markdown",
   "id": "6820d633-44cd-42b5-a48d-e3a8802b0510",
   "metadata": {},
   "source": [
    "# Highest Applicant Income according to Property Area"
   ]
  },
  {
   "cell_type": "code",
   "execution_count": 33,
   "id": "5da3aafe",
   "metadata": {
    "id": "5da3aafe",
    "outputId": "d0e21c97-eb50-4be2-9234-892cfe3931be"
   },
   "outputs": [
    {
     "data": {
      "text/plain": [
       "<Axes: xlabel='Property_Area', ylabel='ApplicantIncome'>"
      ]
     },
     "execution_count": 33,
     "metadata": {},
     "output_type": "execute_result"
    },
    {
     "data": {
      "image/png": "[encoded data removed]",
      "text/plain": [
       "<Figure size 640x480 with 1 Axes>"
      ]
     },
     "metadata": {},
     "output_type": "display_data"
    }
   ],
   "source": [
    "sns.barplot(data=df,x=df['Property_Area'],y=df['ApplicantIncome'])"
   ]
  },
  {
   "cell_type": "markdown",
   "id": "9064846a",
   "metadata": {
    "id": "9064846a"
   },
   "source": [
    "# Encoding usding LabelEncoder"
   ]
  },
  {
   "cell_type": "code",
   "execution_count": 34,
   "id": "3094ee23",
   "metadata": {
    "id": "3094ee23"
   },
   "outputs": [],
   "source": [
    "from sklearn.preprocessing import LabelEncoder"
   ]
  },
  {
   "cell_type": "code",
   "execution_count": 35,
   "id": "1842bb16",
   "metadata": {
    "id": "1842bb16"
   },
   "outputs": [],
   "source": [
    "le=LabelEncoder()"
   ]
  },
  {
   "cell_type": "code",
   "execution_count": 36,
   "id": "8b71e951",
   "metadata": {
    "id": "8b71e951",
    "outputId": "8d163711-4d01-4fb2-975f-398fc3c17358"
   },
   "outputs": [
    {
     "data": {
      "text/plain": [
       "Index(['Loan_ID', 'Gender', 'Married', 'Education', 'Self_Employed',\n",
       "       'Property_Area', 'Loan_Status'],\n",
       "      dtype='object')"
      ]
     },
     "execution_count": 36,
     "metadata": {},
     "output_type": "execute_result"
    }
   ],
   "source": [
    "cat_col=df.select_dtypes(include='O').columns\n",
    "cat_col"
   ]
  },
  {
   "cell_type": "code",
   "execution_count": 37,
   "id": "82449d22",
   "metadata": {
    "id": "82449d22"
   },
   "outputs": [],
   "source": [
    "for i in cat_col:\n",
    "    df[i]=le.fit_transform(df[i])"
   ]
  },
  {
   "cell_type": "code",
   "execution_count": 38,
   "id": "cbfe71e0",
   "metadata": {
    "id": "cbfe71e0",
    "outputId": "995af79d-6b14-41c6-f472-76baa09fd925",
    "scrolled": true
   },
   "outputs": [
    {
     "data": {
      "text/html": [
       "<div>\n",
       "<style scoped>\n",
       "    .dataframe tbody tr th:only-of-type {\n",
       "        vertical-align: middle;\n",
       "    }\n",
       "\n",
       "    .dataframe tbody tr th {\n",
       "        vertical-align: top;\n",
       "    }\n",
       "\n",
       "    .dataframe thead th {\n",
       "        text-align: right;\n",
       "    }\n",
       "</style>\n",
       "<table border=\"1\" class=\"dataframe\">\n",
       "  <thead>\n",
       "    <tr style=\"text-align: right;\">\n",
       "      <th></th>\n",
       "      <th>Loan_ID</th>\n",
       "      <th>Gender</th>\n",
       "      <th>Married</th>\n",
       "      <th>Education</th>\n",
       "      <th>Self_Employed</th>\n",
       "      <th>ApplicantIncome</th>\n",
       "      <th>CoapplicantIncome</th>\n",
       "      <th>LoanAmount</th>\n",
       "      <th>Loan_Amount_Term</th>\n",
       "      <th>Credit_History</th>\n",
       "      <th>Property_Area</th>\n",
       "      <th>Loan_Status</th>\n",
       "    </tr>\n",
       "  </thead>\n",
       "  <tbody>\n",
       "    <tr>\n",
       "      <th>1</th>\n",
       "      <td>0</td>\n",
       "      <td>1</td>\n",
       "      <td>1</td>\n",
       "      <td>0</td>\n",
       "      <td>0</td>\n",
       "      <td>4583</td>\n",
       "      <td>1508.0</td>\n",
       "      <td>128.0</td>\n",
       "      <td>360.0</td>\n",
       "      <td>1.0</td>\n",
       "      <td>0</td>\n",
       "      <td>0</td>\n",
       "    </tr>\n",
       "    <tr>\n",
       "      <th>2</th>\n",
       "      <td>1</td>\n",
       "      <td>1</td>\n",
       "      <td>1</td>\n",
       "      <td>0</td>\n",
       "      <td>1</td>\n",
       "      <td>3000</td>\n",
       "      <td>0.0</td>\n",
       "      <td>66.0</td>\n",
       "      <td>360.0</td>\n",
       "      <td>1.0</td>\n",
       "      <td>2</td>\n",
       "      <td>1</td>\n",
       "    </tr>\n",
       "    <tr>\n",
       "      <th>3</th>\n",
       "      <td>2</td>\n",
       "      <td>1</td>\n",
       "      <td>1</td>\n",
       "      <td>1</td>\n",
       "      <td>0</td>\n",
       "      <td>2583</td>\n",
       "      <td>2358.0</td>\n",
       "      <td>120.0</td>\n",
       "      <td>360.0</td>\n",
       "      <td>1.0</td>\n",
       "      <td>2</td>\n",
       "      <td>1</td>\n",
       "    </tr>\n",
       "    <tr>\n",
       "      <th>4</th>\n",
       "      <td>3</td>\n",
       "      <td>1</td>\n",
       "      <td>0</td>\n",
       "      <td>0</td>\n",
       "      <td>0</td>\n",
       "      <td>6000</td>\n",
       "      <td>0.0</td>\n",
       "      <td>141.0</td>\n",
       "      <td>360.0</td>\n",
       "      <td>1.0</td>\n",
       "      <td>2</td>\n",
       "      <td>1</td>\n",
       "    </tr>\n",
       "    <tr>\n",
       "      <th>5</th>\n",
       "      <td>4</td>\n",
       "      <td>1</td>\n",
       "      <td>1</td>\n",
       "      <td>0</td>\n",
       "      <td>1</td>\n",
       "      <td>5417</td>\n",
       "      <td>4196.0</td>\n",
       "      <td>267.0</td>\n",
       "      <td>360.0</td>\n",
       "      <td>1.0</td>\n",
       "      <td>2</td>\n",
       "      <td>1</td>\n",
       "    </tr>\n",
       "  </tbody>\n",
       "</table>\n",
       "</div>"
      ],
      "text/plain": [
       "   Loan_ID  Gender  Married  Education  Self_Employed  ApplicantIncome  \\\n",
       "1        0       1        1          0              0             4583   \n",
       "2        1       1        1          0              1             3000   \n",
       "3        2       1        1          1              0             2583   \n",
       "4        3       1        0          0              0             6000   \n",
       "5        4       1        1          0              1             5417   \n",
       "\n",
       "   CoapplicantIncome  LoanAmount  Loan_Amount_Term  Credit_History  \\\n",
       "1             1508.0       128.0             360.0             1.0   \n",
       "2                0.0        66.0             360.0             1.0   \n",
       "3             2358.0       120.0             360.0             1.0   \n",
       "4                0.0       141.0             360.0             1.0   \n",
       "5             4196.0       267.0             360.0             1.0   \n",
       "\n",
       "   Property_Area  Loan_Status  \n",
       "1              0            0  \n",
       "2              2            1  \n",
       "3              2            1  \n",
       "4              2            1  \n",
       "5              2            1  "
      ]
     },
     "execution_count": 38,
     "metadata": {},
     "output_type": "execute_result"
    }
   ],
   "source": [
    "df.head()"
   ]
  },
  {
   "cell_type": "markdown",
   "id": "073be948-b0cd-4504-b51e-42ceca76b981",
   "metadata": {},
   "source": [
    "# Separating the Features (X) & Target (Y) from the dataset"
   ]
  },
  {
   "cell_type": "code",
   "execution_count": 39,
   "id": "98400e83",
   "metadata": {
    "id": "98400e83",
    "outputId": "9d65cfac-5459-4dcf-fa93-879928ee00e3"
   },
   "outputs": [
    {
     "data": {
      "text/html": [
       "<div>\n",
       "<style scoped>\n",
       "    .dataframe tbody tr th:only-of-type {\n",
       "        vertical-align: middle;\n",
       "    }\n",
       "\n",
       "    .dataframe tbody tr th {\n",
       "        vertical-align: top;\n",
       "    }\n",
       "\n",
       "    .dataframe thead th {\n",
       "        text-align: right;\n",
       "    }\n",
       "</style>\n",
       "<table border=\"1\" class=\"dataframe\">\n",
       "  <thead>\n",
       "    <tr style=\"text-align: right;\">\n",
       "      <th></th>\n",
       "      <th>Loan_ID</th>\n",
       "      <th>Gender</th>\n",
       "      <th>Married</th>\n",
       "      <th>Education</th>\n",
       "      <th>Self_Employed</th>\n",
       "      <th>ApplicantIncome</th>\n",
       "      <th>CoapplicantIncome</th>\n",
       "      <th>LoanAmount</th>\n",
       "      <th>Loan_Amount_Term</th>\n",
       "      <th>Credit_History</th>\n",
       "      <th>Property_Area</th>\n",
       "    </tr>\n",
       "  </thead>\n",
       "  <tbody>\n",
       "    <tr>\n",
       "      <th>1</th>\n",
       "      <td>0</td>\n",
       "      <td>1</td>\n",
       "      <td>1</td>\n",
       "      <td>0</td>\n",
       "      <td>0</td>\n",
       "      <td>4583</td>\n",
       "      <td>1508.0</td>\n",
       "      <td>128.0</td>\n",
       "      <td>360.0</td>\n",
       "      <td>1.0</td>\n",
       "      <td>0</td>\n",
       "    </tr>\n",
       "    <tr>\n",
       "      <th>2</th>\n",
       "      <td>1</td>\n",
       "      <td>1</td>\n",
       "      <td>1</td>\n",
       "      <td>0</td>\n",
       "      <td>1</td>\n",
       "      <td>3000</td>\n",
       "      <td>0.0</td>\n",
       "      <td>66.0</td>\n",
       "      <td>360.0</td>\n",
       "      <td>1.0</td>\n",
       "      <td>2</td>\n",
       "    </tr>\n",
       "    <tr>\n",
       "      <th>3</th>\n",
       "      <td>2</td>\n",
       "      <td>1</td>\n",
       "      <td>1</td>\n",
       "      <td>1</td>\n",
       "      <td>0</td>\n",
       "      <td>2583</td>\n",
       "      <td>2358.0</td>\n",
       "      <td>120.0</td>\n",
       "      <td>360.0</td>\n",
       "      <td>1.0</td>\n",
       "      <td>2</td>\n",
       "    </tr>\n",
       "    <tr>\n",
       "      <th>4</th>\n",
       "      <td>3</td>\n",
       "      <td>1</td>\n",
       "      <td>0</td>\n",
       "      <td>0</td>\n",
       "      <td>0</td>\n",
       "      <td>6000</td>\n",
       "      <td>0.0</td>\n",
       "      <td>141.0</td>\n",
       "      <td>360.0</td>\n",
       "      <td>1.0</td>\n",
       "      <td>2</td>\n",
       "    </tr>\n",
       "    <tr>\n",
       "      <th>5</th>\n",
       "      <td>4</td>\n",
       "      <td>1</td>\n",
       "      <td>1</td>\n",
       "      <td>0</td>\n",
       "      <td>1</td>\n",
       "      <td>5417</td>\n",
       "      <td>4196.0</td>\n",
       "      <td>267.0</td>\n",
       "      <td>360.0</td>\n",
       "      <td>1.0</td>\n",
       "      <td>2</td>\n",
       "    </tr>\n",
       "    <tr>\n",
       "      <th>...</th>\n",
       "      <td>...</td>\n",
       "      <td>...</td>\n",
       "      <td>...</td>\n",
       "      <td>...</td>\n",
       "      <td>...</td>\n",
       "      <td>...</td>\n",
       "      <td>...</td>\n",
       "      <td>...</td>\n",
       "      <td>...</td>\n",
       "      <td>...</td>\n",
       "      <td>...</td>\n",
       "    </tr>\n",
       "    <tr>\n",
       "      <th>609</th>\n",
       "      <td>548</td>\n",
       "      <td>0</td>\n",
       "      <td>0</td>\n",
       "      <td>0</td>\n",
       "      <td>0</td>\n",
       "      <td>2900</td>\n",
       "      <td>0.0</td>\n",
       "      <td>71.0</td>\n",
       "      <td>360.0</td>\n",
       "      <td>1.0</td>\n",
       "      <td>0</td>\n",
       "    </tr>\n",
       "    <tr>\n",
       "      <th>610</th>\n",
       "      <td>549</td>\n",
       "      <td>1</td>\n",
       "      <td>1</td>\n",
       "      <td>0</td>\n",
       "      <td>0</td>\n",
       "      <td>4106</td>\n",
       "      <td>0.0</td>\n",
       "      <td>40.0</td>\n",
       "      <td>180.0</td>\n",
       "      <td>1.0</td>\n",
       "      <td>0</td>\n",
       "    </tr>\n",
       "    <tr>\n",
       "      <th>611</th>\n",
       "      <td>550</td>\n",
       "      <td>1</td>\n",
       "      <td>1</td>\n",
       "      <td>0</td>\n",
       "      <td>0</td>\n",
       "      <td>8072</td>\n",
       "      <td>240.0</td>\n",
       "      <td>253.0</td>\n",
       "      <td>360.0</td>\n",
       "      <td>1.0</td>\n",
       "      <td>2</td>\n",
       "    </tr>\n",
       "    <tr>\n",
       "      <th>612</th>\n",
       "      <td>551</td>\n",
       "      <td>1</td>\n",
       "      <td>1</td>\n",
       "      <td>0</td>\n",
       "      <td>0</td>\n",
       "      <td>7583</td>\n",
       "      <td>0.0</td>\n",
       "      <td>187.0</td>\n",
       "      <td>360.0</td>\n",
       "      <td>1.0</td>\n",
       "      <td>2</td>\n",
       "    </tr>\n",
       "    <tr>\n",
       "      <th>613</th>\n",
       "      <td>552</td>\n",
       "      <td>0</td>\n",
       "      <td>0</td>\n",
       "      <td>0</td>\n",
       "      <td>1</td>\n",
       "      <td>4583</td>\n",
       "      <td>0.0</td>\n",
       "      <td>133.0</td>\n",
       "      <td>360.0</td>\n",
       "      <td>0.0</td>\n",
       "      <td>1</td>\n",
       "    </tr>\n",
       "  </tbody>\n",
       "</table>\n",
       "<p>553 rows × 11 columns</p>\n",
       "</div>"
      ],
      "text/plain": [
       "     Loan_ID  Gender  Married  Education  Self_Employed  ApplicantIncome  \\\n",
       "1          0       1        1          0              0             4583   \n",
       "2          1       1        1          0              1             3000   \n",
       "3          2       1        1          1              0             2583   \n",
       "4          3       1        0          0              0             6000   \n",
       "5          4       1        1          0              1             5417   \n",
       "..       ...     ...      ...        ...            ...              ...   \n",
       "609      548       0        0          0              0             2900   \n",
       "610      549       1        1          0              0             4106   \n",
       "611      550       1        1          0              0             8072   \n",
       "612      551       1        1          0              0             7583   \n",
       "613      552       0        0          0              1             4583   \n",
       "\n",
       "     CoapplicantIncome  LoanAmount  Loan_Amount_Term  Credit_History  \\\n",
       "1               1508.0       128.0             360.0             1.0   \n",
       "2                  0.0        66.0             360.0             1.0   \n",
       "3               2358.0       120.0             360.0             1.0   \n",
       "4                  0.0       141.0             360.0             1.0   \n",
       "5               4196.0       267.0             360.0             1.0   \n",
       "..                 ...         ...               ...             ...   \n",
       "609                0.0        71.0             360.0             1.0   \n",
       "610                0.0        40.0             180.0             1.0   \n",
       "611              240.0       253.0             360.0             1.0   \n",
       "612                0.0       187.0             360.0             1.0   \n",
       "613                0.0       133.0             360.0             0.0   \n",
       "\n",
       "     Property_Area  \n",
       "1                0  \n",
       "2                2  \n",
       "3                2  \n",
       "4                2  \n",
       "5                2  \n",
       "..             ...  \n",
       "609              0  \n",
       "610              0  \n",
       "611              2  \n",
       "612              2  \n",
       "613              1  \n",
       "\n",
       "[553 rows x 11 columns]"
      ]
     },
     "execution_count": 39,
     "metadata": {},
     "output_type": "execute_result"
    }
   ],
   "source": [
    "x=df.drop('Loan_Status',axis=1)\n",
    "x"
   ]
  },
  {
   "cell_type": "code",
   "execution_count": 40,
   "id": "06454648",
   "metadata": {
    "id": "06454648",
    "outputId": "c2cfa292-98d6-4c0c-8986-75b19388be08",
    "scrolled": true
   },
   "outputs": [
    {
     "data": {
      "text/plain": [
       "1      0\n",
       "2      1\n",
       "3      1\n",
       "4      1\n",
       "5      1\n",
       "      ..\n",
       "609    1\n",
       "610    1\n",
       "611    1\n",
       "612    1\n",
       "613    0\n",
       "Name: Loan_Status, Length: 553, dtype: int32"
      ]
     },
     "execution_count": 40,
     "metadata": {},
     "output_type": "execute_result"
    }
   ],
   "source": [
    "y=df['Loan_Status']\n",
    "y"
   ]
  },
  {
   "cell_type": "markdown",
   "id": "6bfab901-c3ab-4200-a601-44963537d152",
   "metadata": {},
   "source": [
    "# Balancing the Dataset"
   ]
  },
  {
   "cell_type": "code",
   "execution_count": 41,
   "id": "cbbb6562-e0d4-4216-b4e3-3c646e76c3fd",
   "metadata": {},
   "outputs": [
    {
     "data": {
      "text/plain": [
       "Loan_Status\n",
       "1    389\n",
       "0    164\n",
       "Name: count, dtype: int64"
      ]
     },
     "execution_count": 41,
     "metadata": {},
     "output_type": "execute_result"
    }
   ],
   "source": [
    "y.value_counts()"
   ]
  },
  {
   "cell_type": "code",
   "execution_count": 42,
   "id": "5a873181-a9f6-40a7-b56d-f3ea92d4a74f",
   "metadata": {},
   "outputs": [],
   "source": [
    "from imblearn import under_sampling, over_sampling\n",
    "from imblearn.over_sampling import SMOTE\n",
    "\n",
    "x_resampled, y_resampled=SMOTE().fit_resample(x,y)\n",
    "x, y=SMOTE().fit_resample(x,y)"
   ]
  },
  {
   "cell_type": "code",
   "execution_count": 43,
   "id": "6f41006e-63af-4b66-bcc5-695be7fe6359",
   "metadata": {},
   "outputs": [
    {
     "data": {
      "text/html": [
       "<div>\n",
       "<style scoped>\n",
       "    .dataframe tbody tr th:only-of-type {\n",
       "        vertical-align: middle;\n",
       "    }\n",
       "\n",
       "    .dataframe tbody tr th {\n",
       "        vertical-align: top;\n",
       "    }\n",
       "\n",
       "    .dataframe thead th {\n",
       "        text-align: right;\n",
       "    }\n",
       "</style>\n",
       "<table border=\"1\" class=\"dataframe\">\n",
       "  <thead>\n",
       "    <tr style=\"text-align: right;\">\n",
       "      <th></th>\n",
       "      <th>count</th>\n",
       "    </tr>\n",
       "    <tr>\n",
       "      <th>Loan_Status</th>\n",
       "      <th></th>\n",
       "    </tr>\n",
       "  </thead>\n",
       "  <tbody>\n",
       "    <tr>\n",
       "      <th>0</th>\n",
       "      <td>389</td>\n",
       "    </tr>\n",
       "    <tr>\n",
       "      <th>1</th>\n",
       "      <td>389</td>\n",
       "    </tr>\n",
       "  </tbody>\n",
       "</table>\n",
       "</div>"
      ],
      "text/plain": [
       "             count\n",
       "Loan_Status       \n",
       "0              389\n",
       "1              389"
      ]
     },
     "execution_count": 43,
     "metadata": {},
     "output_type": "execute_result"
    }
   ],
   "source": [
    "y.value_counts().to_frame()"
   ]
  },
  {
   "cell_type": "markdown",
   "id": "f49e2ee9",
   "metadata": {
    "id": "f49e2ee9"
   },
   "source": [
    "# Splitting Data into Training & Testing data."
   ]
  },
  {
   "cell_type": "code",
   "execution_count": 44,
   "id": "476499fe",
   "metadata": {
    "id": "476499fe"
   },
   "outputs": [],
   "source": [
    "from sklearn.model_selection import train_test_split\n",
    "xtrain,xtest,ytrain,ytest=train_test_split(x,y,test_size=0.20,random_state=1)"
   ]
  },
  {
   "cell_type": "code",
   "execution_count": 45,
   "id": "bc78e4c2-d71a-4327-835d-60ccb4de9298",
   "metadata": {},
   "outputs": [],
   "source": [
    "comp=dict()"
   ]
  },
  {
   "cell_type": "markdown",
   "id": "2f79faf3-d872-46dd-a554-626cda756a2a",
   "metadata": {},
   "source": [
    "# Predicting Using KNN Classifier"
   ]
  },
  {
   "cell_type": "code",
   "execution_count": 46,
   "id": "77c3ef23-f172-4984-ad81-b2822bb483df",
   "metadata": {},
   "outputs": [],
   "source": [
    "from sklearn.neighbors import KNeighborsClassifier\n",
    "knn = KNeighborsClassifier(n_neighbors = 5) \n",
    "knn.fit(xtrain,ytrain)\n",
    "ypred = knn.predict(xtest)"
   ]
  },
  {
   "cell_type": "code",
   "execution_count": 47,
   "id": "fe8d5c9b-41f8-497a-9fbc-4ca2c2c20c3e",
   "metadata": {
    "scrolled": true
   },
   "outputs": [
    {
     "name": "stdout",
     "output_type": "stream",
     "text": [
      "0.6794871794871795\n",
      "              precision    recall  f1-score   support\n",
      "\n",
      "           0       0.69      0.74      0.71        84\n",
      "           1       0.67      0.61      0.64        72\n",
      "\n",
      "    accuracy                           0.68       156\n",
      "   macro avg       0.68      0.67      0.68       156\n",
      "weighted avg       0.68      0.68      0.68       156\n",
      "\n"
     ]
    }
   ],
   "source": [
    "from sklearn.metrics import accuracy_score,classification_report\n",
    "ac = accuracy_score(ytest,ypred)\n",
    "print(ac)\n",
    "print(classification_report(ytest,ypred))"
   ]
  },
  {
   "cell_type": "markdown",
   "id": "32736f0f-7478-437a-af48-2c90bbcc7aeb",
   "metadata": {},
   "source": [
    "### HPT"
   ]
  },
  {
   "cell_type": "code",
   "execution_count": 48,
   "id": "701e440e-98ec-43cb-8465-eb58c73149cf",
   "metadata": {},
   "outputs": [],
   "source": [
    "trainac=[]\n",
    "testac=[]\n",
    "\n",
    "for i in range(1,31):\n",
    "    kn=KNeighborsClassifier(n_neighbors=i)\n",
    "    kn.fit(xtrain,ytrain)\n",
    "    \n",
    "    train=kn.score(xtrain,ytrain)\n",
    "    test=kn.score(xtest,ytest)\n",
    "    \n",
    "    trainac.append(train)\n",
    "    testac.append(test)"
   ]
  },
  {
   "cell_type": "code",
   "execution_count": 49,
   "id": "3b75b3c7-98e5-4d41-bcd5-548adaf02e78",
   "metadata": {
    "scrolled": true
   },
   "outputs": [
    {
     "data": {
      "image/png": "[encoded data removed]",
      "text/plain": [
       "<Figure size 640x480 with 1 Axes>"
      ]
     },
     "metadata": {},
     "output_type": "display_data"
    }
   ],
   "source": [
    "plt.plot(range(1,31),trainac,color=\"red\")\n",
    "plt.plot(range(1,31),testac,color=\"blue\")\n",
    "plt.grid()"
   ]
  },
  {
   "cell_type": "code",
   "execution_count": 50,
   "id": "ebaf296b-f0b0-4567-80cb-32689c77a5ba",
   "metadata": {},
   "outputs": [],
   "source": [
    "#Re-building the model using n_neighbors=2\n",
    "\n",
    "from sklearn.neighbors import KNeighborsClassifier\n",
    "knn = KNeighborsClassifier(n_neighbors = 2) \n",
    "knn.fit(xtrain,ytrain)\n",
    "ypred = knn.predict(xtest)"
   ]
  },
  {
   "cell_type": "code",
   "execution_count": 51,
   "id": "c923b590-fe86-4b76-8f24-e157e445f8d8",
   "metadata": {
    "scrolled": true
   },
   "outputs": [
    {
     "name": "stdout",
     "output_type": "stream",
     "text": [
      "0.7243589743589743\n",
      "              precision    recall  f1-score   support\n",
      "\n",
      "           0       0.68      0.92      0.78        84\n",
      "           1       0.84      0.50      0.63        72\n",
      "\n",
      "    accuracy                           0.72       156\n",
      "   macro avg       0.76      0.71      0.70       156\n",
      "weighted avg       0.75      0.72      0.71       156\n",
      "\n"
     ]
    }
   ],
   "source": [
    "from sklearn.metrics import accuracy_score,classification_report\n",
    "ac = accuracy_score(ytest,ypred)\n",
    "print(ac)\n",
    "print(classification_report(ytest,ypred))"
   ]
  },
  {
   "cell_type": "code",
   "execution_count": 52,
   "id": "bca3d208-45ab-48ef-a6aa-7760edf67a12",
   "metadata": {},
   "outputs": [],
   "source": [
    "knn=knn.score(xtest,ytest)\n",
    "comp['KNN']=knn"
   ]
  },
  {
   "cell_type": "markdown",
   "id": "f5da7b29-c085-4163-b5e3-24e0bd8ac327",
   "metadata": {},
   "source": [
    "## - Using KNN Classifier we have achieved an Average Accuracy of 72 %."
   ]
  },
  {
   "cell_type": "markdown",
   "id": "fc68bddb",
   "metadata": {
    "id": "fc68bddb"
   },
   "source": [
    "# Predicting using LogisticRegression"
   ]
  },
  {
   "cell_type": "code",
   "execution_count": 53,
   "id": "4c9dc96f",
   "metadata": {
    "id": "4c9dc96f"
   },
   "outputs": [],
   "source": [
    "from sklearn.linear_model import LogisticRegression\n",
    "from sklearn.metrics import classification_report,accuracy_score"
   ]
  },
  {
   "cell_type": "code",
   "execution_count": 54,
   "id": "b1c0a16c",
   "metadata": {
    "id": "b1c0a16c"
   },
   "outputs": [],
   "source": [
    "def my_model(model):\n",
    "    model.fit(xtrain,ytrain)\n",
    "    ypred=model.predict(xtest)\n",
    "    print(classification_report(ytest,ypred))"
   ]
  },
  {
   "cell_type": "code",
   "execution_count": 55,
   "id": "62a15121",
   "metadata": {
    "id": "62a15121"
   },
   "outputs": [],
   "source": [
    "lr=LogisticRegression()"
   ]
  },
  {
   "cell_type": "code",
   "execution_count": 56,
   "id": "89860def",
   "metadata": {
    "id": "89860def",
    "outputId": "7817406f-40de-4945-fab1-a5f27d4ee64b"
   },
   "outputs": [
    {
     "name": "stdout",
     "output_type": "stream",
     "text": [
      "              precision    recall  f1-score   support\n",
      "\n",
      "           0       0.68      0.64      0.66        84\n",
      "           1       0.61      0.65      0.63        72\n",
      "\n",
      "    accuracy                           0.65       156\n",
      "   macro avg       0.65      0.65      0.65       156\n",
      "weighted avg       0.65      0.65      0.65       156\n",
      "\n"
     ]
    }
   ],
   "source": [
    "my_model(lr)"
   ]
  },
  {
   "cell_type": "markdown",
   "id": "0b70be98-db8e-4911-9d2b-6754a8255e42",
   "metadata": {},
   "source": [
    "- Using Logistic Regression we have achieved an Average Accuracy of 65 % which is not that good. \n",
    "- Lets see if we can increase this accuracy by hyper tuning."
   ]
  },
  {
   "cell_type": "markdown",
   "id": "585768a5-d60b-499c-8e3d-e4e19f70c441",
   "metadata": {},
   "source": [
    "### HPT"
   ]
  },
  {
   "cell_type": "code",
   "execution_count": 57,
   "id": "4400f836-08fe-4c66-b306-d3b4b9476352",
   "metadata": {},
   "outputs": [],
   "source": [
    "#Hypertuning using Solver--> Liblinear\n",
    "\n",
    "logreg = LogisticRegression(solver = \"liblinear\")\n",
    "logreg.fit(xtrain,ytrain)\n",
    "ypred = logreg.predict(xtest)"
   ]
  },
  {
   "cell_type": "code",
   "execution_count": 58,
   "id": "817de02c-6bbb-4017-a25a-91bf64bc2474",
   "metadata": {},
   "outputs": [
    {
     "name": "stdout",
     "output_type": "stream",
     "text": [
      "Accuracy score :  0.7307692307692307\n",
      "              precision    recall  f1-score   support\n",
      "\n",
      "           0       0.80      0.67      0.73        84\n",
      "           1       0.67      0.81      0.73        72\n",
      "\n",
      "    accuracy                           0.73       156\n",
      "   macro avg       0.74      0.74      0.73       156\n",
      "weighted avg       0.74      0.73      0.73       156\n",
      "\n"
     ]
    }
   ],
   "source": [
    "ac = accuracy_score(ytest,ypred)\n",
    "cr = classification_report(ytest,ypred)\n",
    "print(\"Accuracy score : \",ac)\n",
    "print(cr)"
   ]
  },
  {
   "cell_type": "code",
   "execution_count": 59,
   "id": "6381c00a-8b33-41b9-a57c-3d86187e9aa4",
   "metadata": {},
   "outputs": [],
   "source": [
    "#Hypertuning using Solver--> newton-cg\n",
    "\n",
    "logreg = LogisticRegression(solver ='newton-cg')\n",
    "logreg.fit(xtrain,ytrain)\n",
    "ypred = logreg.predict(xtest)"
   ]
  },
  {
   "cell_type": "code",
   "execution_count": 60,
   "id": "af88811d-486d-40e0-9c37-3bcf19045f3c",
   "metadata": {},
   "outputs": [
    {
     "name": "stdout",
     "output_type": "stream",
     "text": [
      "Accuracy score :  0.7115384615384616\n",
      "              precision    recall  f1-score   support\n",
      "\n",
      "           0       0.77      0.65      0.71        84\n",
      "           1       0.66      0.78      0.71        72\n",
      "\n",
      "    accuracy                           0.71       156\n",
      "   macro avg       0.72      0.72      0.71       156\n",
      "weighted avg       0.72      0.71      0.71       156\n",
      "\n"
     ]
    }
   ],
   "source": [
    "ac = accuracy_score(ytest,ypred)\n",
    "cr = classification_report(ytest,ypred)\n",
    "print(\"Accuracy score : \",ac)\n",
    "print(cr)"
   ]
  },
  {
   "cell_type": "code",
   "execution_count": 61,
   "id": "6265d520-5c66-4652-a7ed-8042557b89b9",
   "metadata": {},
   "outputs": [],
   "source": [
    "logreg=logreg.score(xtest,ytest)\n",
    "comp['LogisticRegression']=logreg"
   ]
  },
  {
   "cell_type": "markdown",
   "id": "75fc7008-5c94-48dd-b715-204a58188b02",
   "metadata": {},
   "source": [
    "- Both Hyper Tunners 'liblinear' & 'newton-cg' are giving me an accuracy of 71%"
   ]
  },
  {
   "cell_type": "markdown",
   "id": "071fdf60",
   "metadata": {
    "id": "071fdf60"
   },
   "source": [
    "# Predicting using DecisionTreeClassifier"
   ]
  },
  {
   "cell_type": "code",
   "execution_count": 62,
   "id": "d7e5830e",
   "metadata": {
    "id": "d7e5830e"
   },
   "outputs": [],
   "source": [
    "from sklearn.tree import DecisionTreeClassifier"
   ]
  },
  {
   "cell_type": "code",
   "execution_count": 63,
   "id": "e6a3a352",
   "metadata": {
    "id": "e6a3a352"
   },
   "outputs": [],
   "source": [
    "dt=DecisionTreeClassifier()"
   ]
  },
  {
   "cell_type": "code",
   "execution_count": 64,
   "id": "d92a2078",
   "metadata": {
    "id": "d92a2078",
    "outputId": "fba67ce4-490e-495b-919f-dd25a11f65e5"
   },
   "outputs": [
    {
     "name": "stdout",
     "output_type": "stream",
     "text": [
      "              precision    recall  f1-score   support\n",
      "\n",
      "           0       0.73      0.77      0.75        84\n",
      "           1       0.72      0.67      0.69        72\n",
      "\n",
      "    accuracy                           0.72       156\n",
      "   macro avg       0.72      0.72      0.72       156\n",
      "weighted avg       0.72      0.72      0.72       156\n",
      "\n"
     ]
    }
   ],
   "source": [
    "my_model(dt)"
   ]
  },
  {
   "cell_type": "code",
   "execution_count": 65,
   "id": "47bf70d4-bdb2-42bd-8a61-ec58fc791b93",
   "metadata": {},
   "outputs": [],
   "source": [
    "dt=dt.score(xtest,ytest)\n",
    "comp['DT']=dt"
   ]
  },
  {
   "cell_type": "markdown",
   "id": "9adb0a8d-bc30-460a-9347-0912ba3fa9a3",
   "metadata": {},
   "source": [
    "- Decision Tree Classifier is giving an accuracy of 72%."
   ]
  },
  {
   "cell_type": "markdown",
   "id": "1041ed1f",
   "metadata": {
    "id": "1041ed1f"
   },
   "source": [
    "# RandomForestClassifier"
   ]
  },
  {
   "cell_type": "code",
   "execution_count": 66,
   "id": "3ee295a2",
   "metadata": {
    "id": "3ee295a2"
   },
   "outputs": [],
   "source": [
    "from sklearn.ensemble import RandomForestClassifier"
   ]
  },
  {
   "cell_type": "code",
   "execution_count": 67,
   "id": "f036b825",
   "metadata": {
    "id": "f036b825"
   },
   "outputs": [],
   "source": [
    "rf=RandomForestClassifier()"
   ]
  },
  {
   "cell_type": "code",
   "execution_count": 68,
   "id": "5f1919fc",
   "metadata": {
    "id": "5f1919fc",
    "outputId": "7085d9ee-39c7-4ee5-a108-98c8933f2fc2",
    "scrolled": true
   },
   "outputs": [
    {
     "name": "stdout",
     "output_type": "stream",
     "text": [
      "              precision    recall  f1-score   support\n",
      "\n",
      "           0       0.89      0.74      0.81        84\n",
      "           1       0.74      0.89      0.81        72\n",
      "\n",
      "    accuracy                           0.81       156\n",
      "   macro avg       0.81      0.81      0.81       156\n",
      "weighted avg       0.82      0.81      0.81       156\n",
      "\n"
     ]
    }
   ],
   "source": [
    "my_model(rf)"
   ]
  },
  {
   "cell_type": "code",
   "execution_count": 69,
   "id": "cd2c23c0-27c2-4a6a-aba4-81714bacad48",
   "metadata": {},
   "outputs": [],
   "source": [
    "rf=rf.score(xtest,ytest)\n",
    "comp['RandomForest']=rf"
   ]
  },
  {
   "cell_type": "markdown",
   "id": "8c084d56-09be-4f4f-ad71-0ba9f19a8f84",
   "metadata": {},
   "source": [
    "- Random Forest Classifier is giving an accuracy of 81%"
   ]
  },
  {
   "cell_type": "markdown",
   "id": "1efa4607",
   "metadata": {
    "id": "1efa4607"
   },
   "source": [
    "# AdaBoostClassifier"
   ]
  },
  {
   "cell_type": "code",
   "execution_count": 70,
   "id": "0508ecc2",
   "metadata": {
    "id": "0508ecc2"
   },
   "outputs": [],
   "source": [
    "from sklearn.ensemble import AdaBoostClassifier,GradientBoostingClassifier"
   ]
  },
  {
   "cell_type": "code",
   "execution_count": 71,
   "id": "a0b6ca5c",
   "metadata": {
    "id": "a0b6ca5c",
    "scrolled": true
   },
   "outputs": [
    {
     "name": "stdout",
     "output_type": "stream",
     "text": [
      "              precision    recall  f1-score   support\n",
      "\n",
      "           0       0.79      0.73      0.76        84\n",
      "           1       0.71      0.78      0.74        72\n",
      "\n",
      "    accuracy                           0.75       156\n",
      "   macro avg       0.75      0.75      0.75       156\n",
      "weighted avg       0.75      0.75      0.75       156\n",
      "\n"
     ]
    }
   ],
   "source": [
    "adb=AdaBoostClassifier(n_estimators=450)\n",
    "my_model(adb)"
   ]
  },
  {
   "cell_type": "markdown",
   "id": "53869183-f1bd-4a03-a2f2-712c611d4167",
   "metadata": {},
   "source": [
    "- ADABoost Classifier is giving an accuracy of 75%"
   ]
  },
  {
   "cell_type": "code",
   "execution_count": 72,
   "id": "03ffa692-29d0-41ca-a538-2132c628c269",
   "metadata": {},
   "outputs": [],
   "source": [
    "adb=adb.score(xtest,ytest)\n",
    "comp['ADABoost']=adb"
   ]
  },
  {
   "cell_type": "markdown",
   "id": "83757359-b1bf-43e8-8ec9-6b6f29c3a326",
   "metadata": {},
   "source": [
    "# Gradient Boosting Classifier"
   ]
  },
  {
   "cell_type": "code",
   "execution_count": 73,
   "id": "8d1ab77f-0d83-4407-adac-b2b04ad67d1b",
   "metadata": {},
   "outputs": [
    {
     "name": "stdout",
     "output_type": "stream",
     "text": [
      "              precision    recall  f1-score   support\n",
      "\n",
      "           0       0.88      0.76      0.82        84\n",
      "           1       0.76      0.88      0.81        72\n",
      "\n",
      "    accuracy                           0.81       156\n",
      "   macro avg       0.82      0.82      0.81       156\n",
      "weighted avg       0.82      0.81      0.81       156\n",
      "\n"
     ]
    }
   ],
   "source": [
    "gb=GradientBoostingClassifier()\n",
    "my_model(gb)"
   ]
  },
  {
   "cell_type": "markdown",
   "id": "544f9d0e-5301-4b7c-bd7e-ec4d2fecc183",
   "metadata": {},
   "source": [
    "- Gradient Boost Classifier is giving an accuracy of 81%"
   ]
  },
  {
   "cell_type": "code",
   "execution_count": 74,
   "id": "1b8bea3f-e240-41c2-b918-94229a23aab6",
   "metadata": {},
   "outputs": [],
   "source": [
    "gb=gb.score(xtest,ytest)\n",
    "comp['GradientBoost']=gb"
   ]
  },
  {
   "cell_type": "markdown",
   "id": "199bb55b-ea6c-4105-836f-4702cd7cedb6",
   "metadata": {},
   "source": [
    "# XGBClassifier"
   ]
  },
  {
   "cell_type": "code",
   "execution_count": 75,
   "id": "0c9d0353-38e0-4dd3-ac97-3f50cbbccd0f",
   "metadata": {},
   "outputs": [],
   "source": [
    "from xgboost import XGBClassifier"
   ]
  },
  {
   "cell_type": "code",
   "execution_count": 76,
   "id": "30b59726-6d6d-4d05-84cb-2405dcefc96b",
   "metadata": {
    "scrolled": true
   },
   "outputs": [
    {
     "name": "stdout",
     "output_type": "stream",
     "text": [
      "              precision    recall  f1-score   support\n",
      "\n",
      "           0       0.82      0.82      0.82        84\n",
      "           1       0.79      0.79      0.79        72\n",
      "\n",
      "    accuracy                           0.81       156\n",
      "   macro avg       0.81      0.81      0.81       156\n",
      "weighted avg       0.81      0.81      0.81       156\n",
      "\n"
     ]
    }
   ],
   "source": [
    "xgb=XGBClassifier()\n",
    "my_model(xgb)"
   ]
  },
  {
   "cell_type": "markdown",
   "id": "c3f6f8e9-bc20-4856-b977-33af8da23e0c",
   "metadata": {},
   "source": [
    "- XGBoost Classifier is giving an accuracy of 81%"
   ]
  },
  {
   "cell_type": "code",
   "execution_count": 77,
   "id": "fe45dcda-f6b6-4d78-85c8-ed3a39a857fe",
   "metadata": {},
   "outputs": [],
   "source": [
    "xgb=xgb.score(xtest,ytest)\n",
    "comp['XGB']=xgb"
   ]
  },
  {
   "cell_type": "markdown",
   "id": "2a6aae67-46bd-49c5-acbd-061c08753538",
   "metadata": {},
   "source": [
    "# Comparing Predictions of all the Classifiers"
   ]
  },
  {
   "cell_type": "code",
   "execution_count": 78,
   "id": "cb010bc8-af9f-4f76-8117-38427fe89a2c",
   "metadata": {},
   "outputs": [
    {
     "data": {
      "text/plain": [
       "<BarContainer object of 7 artists>"
      ]
     },
     "execution_count": 78,
     "metadata": {},
     "output_type": "execute_result"
    },
    {
     "data": {
      "image/png": "[encoded data removed]",
      "text/plain": [
       "<Figure size 640x480 with 1 Axes>"
      ]
     },
     "metadata": {},
     "output_type": "display_data"
    }
   ],
   "source": [
    "keys = list(comp.keys())\n",
    "val = list(comp.values())\n",
    "plt.barh(keys,val)"
   ]
  },
  {
   "cell_type": "code",
   "execution_count": 79,
   "id": "c66e0541",
   "metadata": {
    "id": "c66e0541"
   },
   "outputs": [
    {
     "data": {
      "text/plain": [
       "([0, 1, 2, 3, 4, 5, 6],\n",
       " [Text(0, 0, 'KNN'),\n",
       "  Text(1, 0, 'LogisticRegression'),\n",
       "  Text(2, 0, 'DT'),\n",
       "  Text(3, 0, 'RandomForest'),\n",
       "  Text(4, 0, 'ADABoost'),\n",
       "  Text(5, 0, 'GradientBoost'),\n",
       "  Text(6, 0, 'XGB')])"
      ]
     },
     "execution_count": 79,
     "metadata": {},
     "output_type": "execute_result"
    },
    {
     "data": {
      "image/png": "[encoded data removed]",
      "text/plain": [
       "<Figure size 640x480 with 1 Axes>"
      ]
     },
     "metadata": {},
     "output_type": "display_data"
    }
   ],
   "source": [
    "keys = list(comp.keys())\n",
    "val = list(comp.values())\n",
    "plt.bar(keys,val)\n",
    "plt.xticks(rotation=90)"
   ]
  },
  {
   "cell_type": "markdown",
   "id": "658b34d8-9bf7-4716-bf60-fbb7b1407cdb",
   "metadata": {},
   "source": [
    "# After comparison between the classifiers , we can see that Gradient Boosting classifier is having the highest accuracy, and which is best for our model. "
   ]
  },
  {
   "cell_type": "code",
   "execution_count": null,
   "id": "9ae586a2-4c6c-4f54-acc6-6ae68ba5a56d",
   "metadata": {},
   "outputs": [],
   "source": []
  }
 ],
 "metadata": {
  "colab": {
   "provenance": []
  },
  "kernelspec": {
   "display_name": "Python 3 (ipykernel)",
   "language": "python",
   "name": "python3"
  },
  "language_info": {
   "codemirror_mode": {
    "name": "ipython",
    "version": 3
   },
   "file_extension": ".py",
   "mimetype": "text/x-python",
   "name": "python",
   "nbconvert_exporter": "python",
   "pygments_lexer": "ipython3",
   "version": "3.11.7"
  }
 },
 "nbformat": 4,
 "nbformat_minor": 5
}
